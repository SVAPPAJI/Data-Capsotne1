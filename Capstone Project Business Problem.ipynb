{
    "cells": [
        {
            "cell_type": "markdown",
            "metadata": {
                "collapsed": true
            },
            "source": "# The Battle of Neighborhoods- Business Proposal/Introduction\n\n"
        },
        {
            "cell_type": "markdown",
            "metadata": {},
            "source": "The main purpose of this Applied Data Science Capstone Project is to identify or know the best facilities given by the neighborhood. By using this project people can select the best neighborhood out of the neighborhoods.\n\n\nIn world people are travelling one place to another place for the purpose of jobs or trips. So, they need to choose the best place based on their neighbor hoods like restaurants, hotels, bakery and malls etc. In this project, people are migrating to Canada from various countries due to the business or job purposes. The migrant people need to put the more effort to find the best price for rental basis or buy an house with all available facilities like resultants, hospitals, Supermarkets, malls and schools near to the houses.\n\n\nThis Project gives analysis of features for a migrant people to Scarborough search a best neighborhood as a comparison between the neighborhoods based on the analysis.\n\n\nThis project will give a better decision and awareness of the new place like city, state, country or place of work to migrant people. This wills leads his life will start in better way in a new place.\n"
        },
        {
            "cell_type": "code",
            "execution_count": null,
            "metadata": {},
            "outputs": [],
            "source": ""
        }
    ],
    "metadata": {
        "kernelspec": {
            "display_name": "Python 3.6",
            "language": "python",
            "name": "python3"
        },
        "language_info": {
            "codemirror_mode": {
                "name": "ipython",
                "version": 3
            },
            "file_extension": ".py",
            "mimetype": "text/x-python",
            "name": "python",
            "nbconvert_exporter": "python",
            "pygments_lexer": "ipython3",
            "version": "3.6.9"
        }
    },
    "nbformat": 4,
    "nbformat_minor": 1
}