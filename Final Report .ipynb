{
    "cells": [
        {
            "cell_type": "markdown",
            "metadata": {},
            "source": "# Fina Report- Capstone Project-The Battle of Neighborhoods Finding a Better Place in Scarborough, Toronto"
        },
        {
            "cell_type": "markdown",
            "metadata": {},
            "source": "## 1. Introduction"
        },
        {
            "cell_type": "markdown",
            "metadata": {},
            "source": "The main purpose of this Applied Data Science Capstone Project is to identify or know the best facilities given by the neighborhood. By using this project people can select the best neighborhood out of the neighborhoods.\n\nIn world people are travelling one place to another place for the purpose of jobs or trips. So, they need to choose the best place based on their neighbor hoods like restaurants, hotels, bakery and malls etc. In this project, people are migrating to Canada from various countries due to the business or job purposes. The migrant people need to put the more effort to find the best price for rental basis or buy an house with all available facilities like resultants, hospitals, Supermarkets, malls and schools near to the houses.\n\nThis Project gives analysis of features for a migrant people to Scarborough search a best neighborhood as a comparison between the neighborhoods based on the analysis.\n\nThis project will give a better decision and awareness of the new place like city, state, country or place of work to migrant people. This wills leads his life will start in better way in a new place.\n"
        },
        {
            "cell_type": "markdown",
            "metadata": {},
            "source": "## 2. Data Section"
        },
        {
            "cell_type": "markdown",
            "metadata": {},
            "source": "To scrap the   Wikipedia web page   https://en.wikipedia.org/wiki/List_of_postal_codes_of_Canada:_M we need to build the code in a note book. To retrieve the data from the table postal codes, need to build data in the pandas data frame. In order to perform this task, explore and cluster the neighborhoods in Toronto. The data frame consist of Postal code, Borough and Neighborhood.\n\nFoursquare API Data:\n\nTo get the different venues at the specified location or neighborhoods we need the Foursquare API data in order to get the venues. So, by using foursquare location information we can get the all manner of Venues and events within an area of interest. Such information includes venue names, locations, menus and even photos. Therefore we will use the Foursquare API. It will be helpful to get the stated information.\nAfter finding the list of neighborhoods, we then connect to the Foursquare API to gather information about venues inside each and every neighborhood. For each neighborhood, we have chosen the radius to be 100 meter.\n\nThe venues information can be retrieved from the Foursquare based on the longitude and latitude of the postal codes within a specified distance range. \nThe information can be retrieves per venue as follows.\n\n1.\tNeighborhood\n2.\tLongitude of the Neighborhood\n3.\tLatitude of the Neighborhood\n4.\tVenue\n5.\tVenue Name e.g the name of the hotel or hospital etc..\n6.\tLongitude of the venue\n7.\tLatitude e of the Venue\n8.\tCategory of the Venue\n"
        },
        {
            "cell_type": "markdown",
            "metadata": {},
            "source": "## 3. Methodology"
        },
        {
            "cell_type": "markdown",
            "metadata": {},
            "source": "Clustering Approach:\n\nIn order to compare the similarities of two cities the neighborhoods are explore and segment. These are grouping into cluster. By using the cluster to find the neighborhoods in city New York and Toronto. Here we cluster the data by unsupervised learning using K-means algorithm.\n\nWork Flow:\nIn order to get the nearest places of neighborhoods we will set the neighborhoods parameter is 100 and radius parameter is 100. To do we are using Foursquare API. In this one we set the parameters in order to get the nearest places of neighborhoods.\n"
        },
        {
            "cell_type": "markdown",
            "metadata": {},
            "source": "## 4. Results Section"
        },
        {
            "cell_type": "markdown",
            "metadata": {},
            "source": "The Location:\nIn Canada, Scarborough is one the most popular destination to immigrants. Various parts people are migrant to Canada. Therefore many diverse or different cultural people are residing there. So, the place is various worships and groups are occupied in Canada. The government seeking more restrictions on immigrants and refuges because more people are would like to migrant to Canada.\n\nFoursquare API:\nAfter finding the list of neighborhoods, we then connect to the Foursquare API to gather information about venues inside each and every neighborhood. For each neighborhood, we have chosen the radius to be 100 meter.\nThe venues information can be retrieved from the Foursquare based on the longitude and latitude of the postal codes within a specified distance range. \n"
        },
        {
            "cell_type": "markdown",
            "metadata": {},
            "source": "## 5. Discussion Section"
        },
        {
            "cell_type": "markdown",
            "metadata": {},
            "source": "Problems we need to solve as\n\nThe main objective of the project is to identify a better neighborhood in a city for the new person who are migrating there. The Human psychology is a person can choose the house with all aliments are available or not. He will chose weather the house is near to market, malls, hospitals and transport etc.. \nHouses prices can be available in ascending or descending order by perform sort the houses prices.\nSchools are be available in ascending or descending order by perform sort the based on the location, fees, ratings and review. \n"
        },
        {
            "cell_type": "markdown",
            "metadata": {},
            "source": "## 6. Conclusion Section"
        },
        {
            "cell_type": "markdown",
            "metadata": {},
            "source": "In this data Capstone project, I found the 103 different latitude and longitutde at 10 different clusters by using the K-means clustering algorithm. By the above charts the results are represents at a particular neighborhood based on the average school rating and house prices have been done.\nFinally I thought that this course covered in well manner and appreciated. This project will be helpful for the real time applications using the Data science tools. Folium is a very useful consolidated the information and makes the analysis and gives best decisions without drought.\n\n\n\n"
        },
        {
            "cell_type": "markdown",
            "metadata": {},
            "source": "## 7.Future Work"
        },
        {
            "cell_type": "code",
            "execution_count": null,
            "metadata": {},
            "outputs": [],
            "source": ""
        }
    ],
    "metadata": {
        "kernelspec": {
            "display_name": "Python 3.6",
            "language": "python",
            "name": "python3"
        },
        "language_info": {
            "codemirror_mode": {
                "name": "ipython",
                "version": 3
            },
            "file_extension": ".py",
            "mimetype": "text/x-python",
            "name": "python",
            "nbconvert_exporter": "python",
            "pygments_lexer": "ipython3",
            "version": "3.6.9"
        }
    },
    "nbformat": 4,
    "nbformat_minor": 1
}