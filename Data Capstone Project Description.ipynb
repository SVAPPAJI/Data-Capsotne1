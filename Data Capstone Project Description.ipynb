{
    "cells": [
        {
            "cell_type": "markdown",
            "metadata": {
                "collapsed": true
            },
            "source": "# Data Description for the the Battle of Neighborhoods"
        },
        {
            "cell_type": "markdown",
            "metadata": {},
            "source": "To scrap the   Wikipedia web page   https://en.wikipedia.org/wiki/List_of_postal_codes_of_Canada:_M we need to build the code in a note book. To retrieve the data from the table postal codes, need to build data in the pandas data frame. In order to perform this task, explore and cluster the neighborhoods in Toronto. The data frame consist of Postal code, Borough and Neighborhood."
        },
        {
            "cell_type": "markdown",
            "metadata": {},
            "source": "## FourSquare API Data"
        },
        {
            "cell_type": "markdown",
            "metadata": {},
            "source": "To get the different venues at the specified location or neighborhoods we need the Foursquare API data in order to get the venues. So, by using foursquare location information we can get the all manner of Venues and events within an area of interest. Such information includes venue names, locations, menus and even photos. Therefore we will use the Foursquare API. It will be helpful to get the stated information.\n\nAfter finding the list of neighborhoods, we then connect to the Foursquare API to gather information about venues inside each and every neighborhood. For each neighborhood, we have chosen the radius to be 100 meter.\n\nThe venues information can be retrieved from the Foursquare based on the longitude and latitude of the postal codes within a specified distance range. \n"
        },
        {
            "cell_type": "markdown",
            "metadata": {},
            "source": "## The information can be retrieves per venue as follows."
        },
        {
            "cell_type": "markdown",
            "metadata": {},
            "source": "1.\tNeighborhood\n2.\tLongitude of the Neighborhood\n3.\tLatitude of the Neighborhood\n4.\tVenue\n5.\tVenue Name e.g the name of the hotel or hospital etc..\n6.\tLongitude of the venue\n7.\tLatitude e of the Venue\n8.\tCategory of the Venue\n"
        },
        {
            "cell_type": "code",
            "execution_count": null,
            "metadata": {},
            "outputs": [],
            "source": ""
        }
    ],
    "metadata": {
        "kernelspec": {
            "display_name": "Python 3.6",
            "language": "python",
            "name": "python3"
        },
        "language_info": {
            "codemirror_mode": {
                "name": "ipython",
                "version": 3
            },
            "file_extension": ".py",
            "mimetype": "text/x-python",
            "name": "python",
            "nbconvert_exporter": "python",
            "pygments_lexer": "ipython3",
            "version": "3.6.9"
        }
    },
    "nbformat": 4,
    "nbformat_minor": 1
}